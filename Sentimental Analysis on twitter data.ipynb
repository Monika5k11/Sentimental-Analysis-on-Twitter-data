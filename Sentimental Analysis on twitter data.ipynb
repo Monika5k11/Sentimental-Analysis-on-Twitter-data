{
  "nbformat": 4,
  "nbformat_minor": 0,
  "metadata": {
    "colab": {
      "name": "InterFaceModule(2) (1)final.ipynb",
      "provenance": [],
      "collapsed_sections": []
    },
    "kernelspec": {
      "name": "python3",
      "display_name": "Python 3"
    },
    "language_info": {
      "name": "python"
    }
  },
  "cells": [
    {
      "cell_type": "markdown",
      "source": [
        "<table width = 400 align=\"left\" style=\"font-size:20px\">\n",
        "<tr>\n",
        "    <td style=\"text-align:left\"><b>Name 1</b></td>\n",
        "    <td style=\"text-align:left\">Monika Konduri</td>\n",
        "</tr>\n",
        "<tr>\n",
        "    <td style=\"text-align:left\"><b>Email</b></td>\n",
        "    <td style=\"text-align:left\">mkvdx@mst.edu</td> \n",
        "</tr>\n",
        "<tr>\n",
        "    <td style=\"text-align:left\"><b>Name 2</b></td>\n",
        "    <td style=\"text-align:left\">Naga Harshitha Datla</td>\n",
        "</tr>\n",
        "<tr>\n",
        "    <td style=\"text-align:left\"><b>Email</b></td>\n",
        "    <td style=\"text-align:left\">nd4m7@mst.edu</td> \n",
        "</tr>\n",
        "<tr>\n",
        "    <td style=\"text-align:left\"><b>Course:</b></td>\n",
        "    <td style=\"text-align:left\">CS 5402</td>\n",
        "</tr>\n",
        "<tr>\n",
        "    <td style=\"text-align:left\"><b>Project:</b></td>\n",
        "    <td style=\"text-align:left\">Sentiment Analysis on Twitter</td>\n",
        "</tr>\n",
        "<tr>\n",
        "    <td style=\"text-align:left\"><b>Date:</b></td>\n",
        "    <td style=\"text-align:left\">05-11-2022</td>\n",
        "</tr>\n",
        "</table>"
      ],
      "metadata": {
        "id": "hdoVf9qa4dN8"
      }
    },
    {
      "cell_type": "markdown",
      "source": [
        "## **Loading Libraries:**"
      ],
      "metadata": {
        "id": "56sujm09EH6f"
      }
    },
    {
      "cell_type": "code",
      "source": [
        "import re \n",
        "import tweepy \n",
        "from tweepy import OAuthHandler \n",
        "from textblob import TextBlob\n",
        "import tkinter as tk\n",
        "#import TweetProcessModule as tpm\n",
        "#import TwitterAPIInitializerModule as tim"
      ],
      "metadata": {
        "id": "o5a8na_J7zy9"
      },
      "execution_count": 11,
      "outputs": []
    },
    {
      "cell_type": "markdown",
      "source": [
        "## **Concept Description:**\n",
        "To achieve a reflection of public sentiments by analysing the sentiments expressed in tweets and to develop a functional classifier for accurate and automatic sentiment classification of an unknown real time tweet stream using 3 classification techniques."
      ],
      "metadata": {
        "id": "FhkUcM7q3nYe"
      }
    },
    {
      "cell_type": "markdown",
      "source": [
        "## **Data Collection:**\n",
        "\n",
        "1. Visited the twitter developer site at dev.twitter.com.\n",
        "\n",
        "2. Created an account on the developer site by clicking the ‘Sign In’ button at the top-right corner.\n",
        "3. After sign-in, clicked on the developer link on the nav-bar.\n",
        "Clicked on your account and choose “Apps” from the drop-down menu that appears\n",
        "4. Clicked on the “create app” button and fill in the details for our application.\n",
        "5. Created the access token for the application. Copied that access token into this file.\n",
        "6. Later, the real-time data has been collected directly from Twitter using Consumer Key, Consumer Secret, OAuth Access Token, OAuth Access Token Secret from the OAuth settings of our account.\n",
        "\n",
        "\n",
        "\n",
        "<!-- The real-time data has been collected directly from Twitter using keys and tokens as mentioned below.\n",
        "\n",
        "consumer_key = '8hEcbFXKZwPADtWnnds5A3Xgg'\n",
        "\n",
        "consumer_secret = 's6L7XaN52xPBzGQHJDAYIhK8EiMirqGS4KBmNGZ3YEDqw76SZk'\n",
        "\n",
        "access_token = '2529158863-dfXjUwnZuCgNxZT2uyBOD3vcFqM1Dy8FbfROjZJ'\n",
        "\n",
        "access_token_secret = 'bbEZnGbYpcS5eLqA4jvEgLRQyPXSPReADF3MfWlV22D3r' -->"
      ],
      "metadata": {
        "id": "o0vyPVdL8zOn"
      }
    },
    {
      "cell_type": "markdown",
      "source": [
        "## **Example Description**\n",
        "user_id:- User_id is an ID given to differentiate a twitter user from other twitter users  which is a nominal attribute.\n",
        "\n",
        "tweet:- Tweet is the comment that is mentioned by the twitter user which is a nominal attribute.\n"
      ],
      "metadata": {
        "id": "ihtIv0lLVNpd"
      }
    },
    {
      "cell_type": "markdown",
      "source": [
        "## **Modules Description:**\n",
        "1.\tTweet Initializer Module\n",
        "2.\tTweet Process Module\n",
        "3.\tInterface Module\n",
        "\n",
        "\n"
      ],
      "metadata": {
        "id": "AtNRW3T8_UR6"
      }
    },
    {
      "cell_type": "markdown",
      "source": [
        "## **Tweet Initializer Module:**\n",
        "This module is used to authorize Twitter API using four keys which are declared as variables. Twitter API is used in order to access Twitter database."
      ],
      "metadata": {
        "id": "zcpnVxFfKwxx"
      }
    },
    {
      "cell_type": "code",
      "source": [
        "#TwitterAPI Initialization Module\n",
        "class TwitterClient(object):\n",
        "    def __init__(self):\n",
        "        '''Class constructor or initialization method.'''\n",
        "        # keys and tokens from the Twitter Dev Console\n",
        "        consumer_key = '8hEcbFXKZwPADtWnnds5A3Xgg'\n",
        "        consumer_secret = 's6L7XaN52xPBzGQHJDAYIhK8EiMirqGS4KBmNGZ3YEDqw76SZk'\n",
        "        access_token = '2529158863-dfXjUwnZuCgNxZT2uyBOD3vcFqM1Dy8FbfROjZJ'\n",
        "        access_token_secret = 'bbEZnGbYpcS5eLqA4jvEgLRQyPXSPReADF3MfWlV22D3r'\n",
        "        # attempt authentication\n",
        "        try:\n",
        "            # create OAuthHandler object\n",
        "            self.auth = OAuthHandler(consumer_key, consumer_secret)\n",
        "            # set access token and secret\n",
        "            self.auth.set_access_token(access_token, access_token_secret)\n",
        "            # create tweepy API object to fetch tweets\n",
        "            self.api = tweepy.API(self.auth)\n",
        "        except:\n",
        "            print(\"Error: Authentication Failed\") \n",
        "    \n",
        "    "
      ],
      "metadata": {
        "id": "U_0FB_Q4abQx"
      },
      "execution_count": 12,
      "outputs": []
    },
    {
      "cell_type": "markdown",
      "source": [
        " \n",
        "## **Tweet Process Module:**\n",
        "This module is used for fetching the tweets by using the keys from Tweet Initializer Module, preprocessing the tweets and apply sentiment classification on the data."
      ],
      "metadata": {
        "id": "ntHRu6EJKfI0"
      }
    },
    {
      "cell_type": "code",
      "source": [
        "#Process Tweet Module\n",
        "class TweetHandler:\n",
        "    def get_tweets(self,api, query, count = 10):\n",
        "        # empty list to store parsed tweets\n",
        "        tweets = []\n",
        "        try:\n",
        "            # call twitter api to fetch tweets\n",
        "            fetched_tweets = api.api.search(q = query, count = count)\n",
        "            # parsing tweets one by one\n",
        "            for tweet in fetched_tweets:\n",
        "                # empty dictionary to store required params of a tweet\n",
        "                parsed_tweet = {}\n",
        "                # saving text of tweet\n",
        "                parsed_tweet['text'] = tweet.text\n",
        "                # saving sentiment of tweet\n",
        "                parsed_tweet['sentiment'] = self.get_tweet_sentiment(tweet.text)\n",
        "                # appending parsed tweet to tweets list\n",
        "                if tweet.retweet_count > 0:\n",
        "                    # if tweet has retweets, ensure that it is appended only once\n",
        "                    if parsed_tweet not in tweets:\n",
        "                        tweets.append(parsed_tweet)\n",
        "                else:\n",
        "                    tweets.append(parsed_tweet)\n",
        "                    # return parsed tweets\n",
        "            return tweets\n",
        "        except tweepy.TweepError as e:\n",
        "            # print error (if any)\n",
        "            print(\"Error : \" + str(e))\n",
        "\n",
        "    def clean_tweet(self, tweet):\n",
        "        '''Utility function to clean tweet text by removing links, special characters using simple regex statements.'''\n",
        "        return ' '.join(re.sub(\"(@[A-Za-z0-9]+)|([^0-9A-Za-z \\t])|(\\w+:\\/\\/\\S+)\", \" \", tweet).split())\n",
        "    \n",
        "    def get_tweet_sentiment(self, tweet):\n",
        "        # create TextBlob object of passed tweet text\n",
        "        analysis = TextBlob(self.clean_tweet(tweet))\n",
        "        # set sentiment\n",
        "        if analysis.sentiment.polarity > 0:\n",
        "            return 'positive'\n",
        "        elif analysis.sentiment.polarity == 0:\n",
        "            return 'neutral'\n",
        "        else:\n",
        "            return 'negative'\n",
        "    "
      ],
      "metadata": {
        "id": "-xDFEgOwac-3"
      },
      "execution_count": 13,
      "outputs": []
    },
    {
      "cell_type": "code",
      "source": [
        "#Process Tweet Module\n",
        "class TweetHandler1:\n",
        "    def get_tweets(self,api, query, count = 10):\n",
        "        # empty list to store parsed tweets\n",
        "        tweets = []\n",
        "        try:\n",
        "            # call twitter api to fetch tweets\n",
        "            fetched_tweets = api.api.search(q = query, count = count)\n",
        "            # parsing tweets one by one\n",
        "            for tweet in fetched_tweets:\n",
        "                # empty dictionary to store required params of a tweet\n",
        "                parsed_tweet = {}\n",
        "                # saving text of tweet\n",
        "                parsed_tweet['text'] = tweet.text\n",
        "                # saving sentiment of tweet\n",
        "                parsed_tweet['sentiment'] = self.get_tweet_sentiment(tweet.text)\n",
        "                # appending parsed tweet to tweets list\n",
        "                \n",
        "            return tweets\n",
        "        except tweepy.TweepError as e:\n",
        "            # print error (if any)\n",
        "            print(\"Error : \" + str(e))\n",
        "\n",
        "    def clean_tweet(self, tweet):\n",
        "        '''Utility function to clean tweet text by removing links, special characters using simple regex statements.'''\n",
        "        return ' '.join(re.sub(\"(@[A-Za-z0-9]+)|([^0-9A-Za-z \\t])|(\\w+:\\/\\/\\S+)\", \" \", tweet).split())\n",
        "    \n",
        "    def get_tweet_sentiment(self, tweet):\n",
        "        # create TextBlob object of passed tweet text\n",
        "        analysis = TextBlob(self.clean_tweet(tweet))\n",
        "        # set sentiment\n",
        "        if analysis.sentiment.polarity > 0:\n",
        "            return 'positive'\n",
        "        elif analysis.sentiment.polarity == 0:\n",
        "            return 'neutral'\n",
        "        else:\n",
        "            return 'negative'"
      ],
      "metadata": {
        "id": "FBjIOCCdjo7o"
      },
      "execution_count": 14,
      "outputs": []
    },
    {
      "cell_type": "markdown",
      "source": [
        "## **Exploratory Analysis and mining:**\n",
        "**Sentiment analysis** is used to check whether the sentiments of a word or sentences are positive, negative or neutral.\n",
        "\n",
        "**TextBlob** is a Natural Language Processing Python library (NLP).\n",
        "Natural Language ToolKit (NLTK) was used extensively by TextBlob to complete its objectives.\n",
        "NLTK is a library that allows users to deal with categorization, classification, and a variety of other tasks by providing simple access to a large number of lexical resources.\n",
        "TextBlob is a basic package that allows for extensive textual data analysis and processing.\n",
        "A sentiment is determined by its semantic direction and the intensity of each word in the phrase in lexicon-based techniques.\n",
        "The polarity and subjectivity of a statement are returned by TextBlob.\n",
        "The range of polarity is [-1,1], with -1 indicating a negative feeling and 1 indicating a positive sentiment.\n",
        "\n",
        "**A bag of words** is a text representation that defines where words appear in a document.\n",
        "\n",
        "## **Interface Module**\n",
        "This module is used to create an interface which displays the result i.e., percentage of positive,negative and neutral tweets. "
      ],
      "metadata": {
        "id": "ns4jy7eIKSFj"
      }
    },
    {
      "cell_type": "code",
      "execution_count": 18,
      "metadata": {
        "id": "spuNzGR6YQ1v",
        "colab": {
          "base_uri": "https://localhost:8080/",
          "height": 460
        },
        "outputId": "9fb15eb6-3c23-4f24-bffe-fd6fd193ccf8"
      },
      "outputs": [
        {
          "output_type": "stream",
          "name": "stdout",
          "text": [
            "Positive Tweets:\n",
            "25\n",
            "Negative Tweets:\n",
            "7\n",
            "Neutral Tweets:\n",
            "66\n",
            "Few Positive Tweets:\n",
            "[{'text': 'RT @jsuhsource: 220512 - stylecollective instagram update\\n\\n\"Johnny Suh looked stunning at the 2022 Met Gala 💚\"\\n\\n🔗 https://t.co/8O3NAfbbPB…', 'sentiment': 'positive'}, {'text': 'ok where was THIS at the met gala?? https://t.co/JhgUOHitip', 'sentiment': 'positive'}, {'text': '@TheRealALM I mean if u saw the fits at the met gala this is way better', 'sentiment': 'positive'}, {'text': 'RT @209_archive: 220512 E! Style Collective instagram update\\n\\n“Johnny Suh looked stunning at the 2022 Met Gala 💚”\\n\\nhttps://t.co/L0E9BA9iln…', 'sentiment': 'positive'}, {'text': 'RT @GigiHadidInfos: Gigi Hadid, Bella Hadid and Donatella Versace at the 2022 Met Gala in New York. Photographed by Cole Sprouse. https://t…', 'sentiment': 'positive'}, {'text': 'RT @_psychostardust: Another thing I posted on discord and thought I might as well share here. This was honestly just a feel good doodle be…', 'sentiment': 'positive'}, {'text': '@Cosmopolitan Met Gala fashion is like the goofy little hats Brits wear on special occasions. Pointless extravagance.', 'sentiment': 'positive'}]\n",
            "Few Negative Tweets:\n",
            "[{'text': 'I had a dream that I was randomly going to the met gala but I couldn’t get ready bc 3 creepy guys we’re stalking me idk LMAOAOA', 'sentiment': 'negative'}, {'text': 'Young thug, Gunna . I wish prison on no man but you niggaz is Stupid Blood! Wtf! The met Gala last week now you nig… https://t.co/wBxRu4bEky', 'sentiment': 'negative'}]\n",
            "piechart\n"
          ]
        },
        {
          "output_type": "display_data",
          "data": {
            "text/plain": [
              "<Figure size 432x288 with 1 Axes>"
            ],
            "image/png": "[encoded data removed]"
          },
          "metadata": {}
        }
      ],
      "source": [
        "#User Inter Face module\n",
        "import matplotlib.pyplot as plt\n",
        "def startProcess():\n",
        "    api = TwitterClient()\n",
        "    pro = TweetHandler()\n",
        "    keyword = 'met gala'\n",
        "    tweets = pro.get_tweets(api,query =keyword , count = 200)\n",
        "    ptweets = [tweet for tweet in tweets if tweet['sentiment'] == 'positive']\n",
        "    ntweets = [tweet for tweet in tweets if tweet['sentiment'] == 'negative']\n",
        "    ptweetsc = str(int(100*len(ptweets)/len(tweets)))\n",
        "    ntweetsc = str(int(100*len(ntweets)/len(tweets)))\n",
        "    neutweetc = str(int(100*(len(tweets) - len(ntweets) - len(ptweets))/len(tweets)))\n",
        "    print('Positive Tweets:')\n",
        "    print(ptweetsc)\n",
        "    print('Negative Tweets:')\n",
        "    print(ntweetsc)\n",
        "    print('Neutral Tweets:')\n",
        "    print(neutweetc)\n",
        "    print('Few Positive Tweets:')\n",
        "    print(ptweets)\n",
        "    print('Few Negative Tweets:')\n",
        "    print(ntweets)\n",
        "    print('piechart')\n",
        "    s='positive','negative','neutral'\n",
        "    c= [ptweetsc,ntweetsc,neutweetc]\n",
        "    plt.pie(c,labels=s,autopct='%1.1f%%')\n",
        "    #fig1, ax1 = plt.subplots()\n",
        "    #ax1.pie(c,labels=s,autopct=\"%1.1%%f\")\n",
        "    plt.axis('equal')  \n",
        "    plt.show()  \n",
        "    \n",
        "    \n",
        "  \n",
        "\n",
        "startProcess()\n",
        "      \n"
      ]
    },
    {
      "cell_type": "markdown",
      "source": [
        "## **Results:**\n",
        "\n",
        "Using sentimental analysis we determine the postive, negative and neutral tweets tweeted based on the keyword provided. \n",
        "\n",
        "\n",
        "\n",
        "For keyword : 'met gala'\n",
        "Positive Tweets:\n",
        "16\n",
        "Negative Tweets:\n",
        "4\n",
        "Neutral Tweets:\n",
        "78\n"
      ],
      "metadata": {
        "id": "4siacKBKfOtk"
      }
    }
  ]
}